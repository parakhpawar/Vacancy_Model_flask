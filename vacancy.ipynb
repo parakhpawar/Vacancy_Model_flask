{
 "cells": [
  {
   "cell_type": "code",
   "execution_count": null,
   "metadata": {},
   "outputs": [],
   "source": [
    "import pandas as pd\n",
    "import numpy as np\n",
    "from sklearn.linear_model import LinearRegression\n",
    "from sklearn.model_selection import train_test_split\n",
    "from sklearn.metrics import mean_squared_error\n",
    "\n",
    "# Load the data\n",
    "df = pd.read_csv('C:/Users/parak/Desktop/vacancyy/Vacancy_Model_flask/hotel_booking.csv')"
   ]
  },
  {
   "cell_type": "code",
   "execution_count": null,
   "metadata": {},
   "outputs": [],
   "source": [
    "df"
   ]
  },
  {
   "cell_type": "code",
   "execution_count": null,
   "metadata": {},
   "outputs": [],
   "source": [
    "\n",
    "\n",
    "# Create num_rooms_available column\n",
    "df['num_rooms_available'] = df['reserved_room_type'].apply(lambda x: ord('G') - ord(x) + 1)\n",
    "\n",
    "# Create num_rooms_booked column\n",
    "df['num_rooms_booked'] = df['assigned_room_type'].apply(lambda x: ord('G') - ord(x) + 1)\n",
    "\n",
    "# Create num_cancellations column\n",
    "df['num_cancellations'] = df['previous_cancellations'] + df['previous_bookings_not_canceled']\n",
    "\n",
    "# Create avg_length_of_stay column\n",
    "df['avg_length_of_stay'] = df['stays_in_weekend_nights'] + df['stays_in_week_nights']\n",
    "\n",
    "# Create location column\n",
    "df['location'] = df['hotel'].apply(lambda x: 'City Hotel' if x == 'City Hotel' else 'Resort Hotel')\n"
   ]
  },
  {
   "cell_type": "code",
   "execution_count": null,
   "metadata": {},
   "outputs": [],
   "source": [
    "# Prepare the data\n",
    "X = df[['num_rooms_available', 'num_rooms_booked', 'num_cancellations', 'avg_length_of_stay', 'location']]\n",
    "X = pd.get_dummies(X)\n",
    "# y = df['vacancy_rate']"
   ]
  },
  {
   "cell_type": "code",
   "execution_count": null,
   "metadata": {},
   "outputs": [],
   "source": [
    "df['vacancy_rate'] = (df['num_rooms_available'] - df['num_rooms_booked']) / df['num_rooms_available']\n"
   ]
  },
  {
   "cell_type": "code",
   "execution_count": null,
   "metadata": {},
   "outputs": [],
   "source": [
    "y = df['vacancy_rate']"
   ]
  },
  {
   "cell_type": "code",
   "execution_count": null,
   "metadata": {},
   "outputs": [],
   "source": [
    "df.vacancy_rate.head(20)"
   ]
  },
  {
   "cell_type": "code",
   "execution_count": null,
   "metadata": {},
   "outputs": [],
   "source": [
    "df['vacancy_rate'].fillna(0, inplace=True)"
   ]
  },
  {
   "cell_type": "code",
   "execution_count": null,
   "metadata": {},
   "outputs": [],
   "source": [
    "df = df[~df['vacancy_rate'].isin([np.nan, np.inf, -np.inf])]\n",
    "df['vacancy_rate'] = df['vacancy_rate'].replace([np.nan, np.inf, -np.inf], df['vacancy_rate'].median())\n"
   ]
  },
  {
   "cell_type": "code",
   "execution_count": null,
   "metadata": {},
   "outputs": [],
   "source": [
    "from sklearn.preprocessing import MinMaxScaler\n",
    "\n",
    "y = df['vacancy_rate'].to_numpy().reshape(-1, 1)\n",
    "scaler = MinMaxScaler()\n",
    "y = scaler.fit_transform(y).flatten()\n",
    "\n",
    "\n",
    "y = df['vacancy_rate'].to_numpy()\n",
    "scaler = MinMaxScaler()\n",
    "y = scaler.fit_transform(y.reshape(-1, 1)).flatten()\n"
   ]
  },
  {
   "cell_type": "code",
   "execution_count": null,
   "metadata": {},
   "outputs": [],
   "source": [
    "# drop the rows in df that are not present in X\n",
    "df = df[df.index.isin(X.index)]\n",
    "\n",
    "# drop the rows in X that are not present in df\n",
    "X = X[X.index.isin(df.index)]\n",
    "\n",
    "# ensure that both datasets have the same number of samples\n",
    "assert len(df) == len(X)\n"
   ]
  },
  {
   "cell_type": "code",
   "execution_count": null,
   "metadata": {},
   "outputs": [],
   "source": [
    "# Split the data\n",
    "X_train, X_test, y_train, y_test = train_test_split(X, y, test_size=0.2, random_state=42)"
   ]
  },
  {
   "cell_type": "code",
   "execution_count": null,
   "metadata": {},
   "outputs": [],
   "source": [
    "# y_train.replace(np.NaN,0.0)\n",
    "\n",
    "# y_train2 = y_train.replace(np.NaN,0.0)\n",
    "\n",
    "# y_test2 = y_test.replace(np.NaN,0.0)\n",
    "\n",
    "import numpy as np\n",
    "\n",
    "# assume y_train and y_test are NumPy ndarray objects\n",
    "y_train2 = np.where(np.isnan(y_train), 0.0, y_train)\n",
    "y_test2 = np.where(np.isnan(y_test), 0.0, y_test)\n",
    "\n",
    "\n",
    "\n"
   ]
  },
  {
   "cell_type": "code",
   "execution_count": null,
   "metadata": {},
   "outputs": [],
   "source": [
    "# Train the model\n",
    "# model = LinearRegression()\n",
    "# model.fit(X_train, y_train)\n",
    "from sklearn.linear_model import LinearRegression\n",
    "\n",
    "model = LinearRegression()\n",
    "model.fit(X_train, y_train2)"
   ]
  },
  {
   "cell_type": "code",
   "execution_count": null,
   "metadata": {},
   "outputs": [],
   "source": [
    "# Evaluate the model\n",
    "y_pred = model.predict(X_test)\n",
    "mse = mean_squared_error(y_test2, y_pred)\n",
    "print('Mean Squared Error:', mse)"
   ]
  },
  {
   "cell_type": "code",
   "execution_count": null,
   "metadata": {},
   "outputs": [],
   "source": [
    "X_train.head()"
   ]
  },
  {
   "cell_type": "code",
   "execution_count": null,
   "metadata": {},
   "outputs": [],
   "source": [
    "# Make predictions\n",
    "new_data = pd.DataFrame({'num_rooms_available': [50], 'num_rooms_booked': [30], 'num_cancellations': [5], 'avg_length_of_stay': [3], 'location_City Hotel': [1],'location_Resort Hotel':[1]})\n",
    "new_data = pd.get_dummies(new_data)\n",
    "prediction = model.predict(new_data)\n",
    "print('Predicted Vacancy Rate:', prediction)"
   ]
  },
  {
   "cell_type": "code",
   "execution_count": null,
   "metadata": {},
   "outputs": [],
   "source": [
    "# to make pickle file\n",
    "import pickle\n",
    "\n",
    "# save the model as a pickle file\n",
    "with open('vacancy_flask.pkl', 'wb') as f:\n",
    "    pickle.dump(model, f)\n",
    "\n"
   ]
  }
 ],
 "metadata": {
  "language_info": {
   "name": "python"
  },
  "orig_nbformat": 4
 },
 "nbformat": 4,
 "nbformat_minor": 2
}
